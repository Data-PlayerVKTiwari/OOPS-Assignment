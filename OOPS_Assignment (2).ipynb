{
  "nbformat": 4,
  "nbformat_minor": 0,
  "metadata": {
    "colab": {
      "provenance": []
    },
    "kernelspec": {
      "name": "python3",
      "display_name": "Python 3"
    },
    "language_info": {
      "name": "python"
    }
  },
  "cells": [
    {
      "cell_type": "markdown",
      "source": [
        "# OOPS Assignment"
      ],
      "metadata": {
        "id": "v-JwMDDJ-mQT"
      }
    },
    {
      "cell_type": "markdown",
      "source": [
        "# Theory Questions"
      ],
      "metadata": {
        "id": "M3dQh3LX-qli"
      }
    },
    {
      "cell_type": "markdown",
      "source": [
        "1 What is Object-Oriented Programming (OOP)?\n",
        "  - OOP is a programming paradigm based on the concept of \"objects\", which can contain data (attributes) and code (methods). It helps organize complex software into manageable, reusable pieces. The four main principles of OOP are inheritance, polymorphism, encapsulation, and abstraction.\n",
        "  \n",
        "2 What is a class in OOP?\n",
        "  - A class is a blueprint or a template for creating objects. It defines a set of attributes and methods that the created objects will have.\n",
        "\n",
        "3 What is an object in OOP?\n",
        "  - An object is an instance of a class. When a class is defined, no memory is allocated until an object of that class is created. An object is a real-world entity that has a state (attributes) and a behavior (methods).\n",
        "\n",
        "4 What is the difference between abstraction and encapsulation?\n",
        "   - Abstraction focuses on hiding complex implementation details and showing only the essential features of an object. It's about \"what\" the object does.\n",
        "   Encapsulation is the bundling of data (attributes) and the methods that operate on that data into a single unit (the class). It's about protecting the data from direct access and modification from outside the class.\n",
        "\n",
        "5 What are dunder methods in Python?\n",
        "   - Dunder methods are special methods in Python that have double underscores \"__\" at the beginning and end of their names. They are also known as magic methods and are used to provide special syntax or behaviors to objects, such as initialization, string representation, or arithmetic operations.\n",
        "\n",
        "6 Explain the concept of inheritance in OOP.\n",
        "   - Inheritance is a mechanism where a new class (subclass or child class) inherits attributes and methods from an existing class (parent class or base class). It promotes code reusability and establishes a \"is-a\" relationship between classes.\n",
        "\n",
        "7 What is polymorphism in OOP?\n",
        "   - Polymorphism means \"many forms.\" It allows objects of different classes to be treated as objects of a common superclass. It enables a single interface to represent different underlying forms or data types. A common use is with method overriding, where a subclass provides a specific implementation of a method that is already defined in its parent class.\n",
        "\n",
        "8 How is encapsulation achieved in Python?\n",
        "  - Encapsulation in Python is achieved using private and protected members. By convention, a single underscore \"_\" prefix denotes a protected member, and a double underscore \"__\" prefix denotes a private member. Python doesn't have true private members like other languages, but it uses a technique called name mangling to make private members harder to access from outside the class.\n",
        "\n",
        "9 What is a constructor in Python?\n",
        "   - A constructor is a special method used to initialize an object's state. In Python, the \"__init__\" method is the constructor. It's automatically called when a new object of the class is created.\n",
        "\n",
        "10 What are class and static methods in Python?\n",
        "   - A class method is a method that operates on the class itself, not on an instance of the class. It receives the class as the first argument, typically named \"cls\", and is decorated with \"@classmethod\".\n",
        "   A static method is a method that belongs to the class but doesn't operate on either the class or its instances. It's essentially a regular function that is logically part of the class, and it is decorated with \"@staticmethod\". It doesn't receive \"self\" or \"cls\" as an argument.\n",
        "\n",
        "11 What is method overloading in Python?\n",
        "   - Method overloading allows a class to have multiple methods with the same name but different signatures (different number of parameters or different types of parameters). Python doesn't support method overloading directly in the way languages like Java or C++ do. However, you can achieve a similar effect using default parameters or by checking the type of arguments passed to the method.\n",
        "\n",
        "12 What is method overriding in OOP?\n",
        "   - Method overriding occurs when a subclass provides a specific implementation for a method that is already defined in its superclass. The method in the subclass \"overrides\" the method in the superclass. This is a key part of polymorphism.\n",
        "\n",
        "13 What is a property decorator in Python?\n",
        "   - The \"@property\" decorator is used to define a method as a property, which allows you to access it like an attribute rather than a method. This is useful for creating \"getter,\" \"setter,\" and \"deleter\" methods to manage attribute access and validation in an elegant way.\n",
        "\n",
        "14 Why is polymorphism important in OOP?\n",
        "   - Polymorphism is crucial because it promotes code reusability, improves code readability and maintainability, and makes the code more flexible and scalable. It allows you to write generic code that can work with different types of objects.\n",
        "\n",
        "15 What is an abstract class in Python?\n",
        "   - An abstract class is a class that cannot be instantiated (you can't create an object of it). It's designed to be a blueprint for other classes, and it may contain one or more abstract methods. An abstract method is a method that is declared but doesn't have an implementation. Subclasses must provide an implementation for all abstract methods.\n",
        "\n",
        "16 What are the advantages of OOP?\n",
        "   - 1. Code Reusability: Through inheritance, you can reuse code from existing classes.\n",
        "    2. Modularity: Objects are self-contained and modular, making development and maintenance easier.\n",
        "    3. Encapsulation: It protects data from accidental modification.\n",
        "    4. Flexibility (Polymorphism): Allows for flexible and extensible code.\n",
        "    5. Problem Solving: It maps real-world problems to code, making it easier to solve complex issues.\n",
        "\n",
        "17 What is the difference between a class variable and an instance variable?\n",
        "   - A class variable is a variable that is shared by all instances (objects) of a class. It is defined outside any method and within the class.\n",
        "   An instance variable is a variable whose value is specific to a particular instance of a class. It is defined inside the constructor (\"__init__\") and is accessed using \"self\".\n",
        "\n",
        "18 What is multiple inheritance in Python?\n",
        "   - Multiple inheritance is a feature in Python where a class can inherit from more than one parent class. This allows a child class to combine the attributes and methods of multiple parent classes.\n",
        "\n",
        "19 Explain the purpose of \"__str__\" and \"__repr__\" methods in Python.\n",
        "   - \"__str__\" is a dunder method used to provide a human-readable string representation of an object. It's called by \"str()\", \"print()\", and \"format()\".\n",
        "   - \"__repr__\" is a dunder method used to provide an official or developer-friendly string representation of an object. Its goal is to be unambiguous. It should return a string that could be used to recreate the object. It's called by \"repr()\". If \"__str__\" is not defined, \"print()\" will fall back to using \"__repr__\".\n",
        "\n",
        "20 What is the significance of the \"super()\" function in Python?\n",
        "   - The \"super()\" function is used to call a method from a parent or superclass. Its primary purpose is to access inherited methods, especially when a child class wants to extend or augment the behavior of a parent's method, rather than completely replacing it. This is particularly important in multiple inheritance to ensure the Method Resolution Order (MRO) is followed correctly.\n",
        "\n",
        "21 What is the significance of the \"__del__\" method in Python?\n",
        "   - The \"__del__\" method is the destructor in Python. It's called when an object is about to be destroyed (i.e., when its reference count becomes zero) and is used to perform any necessary cleanup, such as closing files or database connections. However, you should use \"try...finally\" blocks or context managers (\"with\" statements) for cleanup as the timing of \"__del__\" is not guaranteed.\n",
        "\n",
        "22 What is the difference between @staticmethod and @classmethod in Python?\n",
        "   - \"@staticmethod\" doesn't receive \"self\" or \"cls\" as the first argument. It's a method that belongs to the class but doesn't depend on the state of the object or the class.\n",
        "   - \"@classmethod\" receives the class itself (\"cls\") as the first argument. It can be used to modify class state, such as creating a new instance with a different initialization pattern.\n",
        "\n",
        "23 How does polymorphism work in Python with inheritance?\n",
        "   - With inheritance, polymorphism works through method overriding. A child class can provide its own implementation of a method that is already defined in its parent class. This allows you to call a method on an object without knowing its specific class, and Python will execute the correct implementation based on the object's type. For example, if both \"Dog\" and \"Cat\" classes inherit from an \"Animal\" class with a \"speak()\" method, calling \"animal.speak()\" on a \"Dog\" object will execute the \"Dog\"'s \"speak()\" method, and on a \"Cat\" object, it will execute the \"Cat\"'s.\n",
        "\n",
        "24 What is method chaining in Python OOP?\n",
        "   - Method chaining is a programming technique where multiple methods are called on the same object in a single statement. This is achieved by having each method return the object itself (\"return self\"). It makes the code more readable and concise, especially with methods that modify the object's state.\n",
        "\n",
        "25 What is the purpose of the \"__call__\" method in Python?\n",
        "   - The \"__call__\" method allows an object to be called like a function. If an object's class defines this method, you can use parentheses \"()\" after the object's name to invoke it, and the \"__call__\" method will be executed. This is useful for creating function-like objects (known as functors).\n",
        "\n"
      ],
      "metadata": {
        "id": "W5gvr7uz-u-M"
      }
    },
    {
      "cell_type": "markdown",
      "source": [
        "# Practical Questions"
      ],
      "metadata": {
        "id": "AGKvi-KBKoxD"
      }
    },
    {
      "cell_type": "code",
      "execution_count": 1,
      "metadata": {
        "colab": {
          "base_uri": "https://localhost:8080/"
        },
        "id": "O6Fege64-P2O",
        "outputId": "2ae4b562-ef36-4b85-c5f3-23f9fa18f8aa"
      },
      "outputs": [
        {
          "output_type": "stream",
          "name": "stdout",
          "text": [
            "Dog says: Bark!\n"
          ]
        }
      ],
      "source": [
        "# 1. Create a parent class Animal with a method speak() that prints a generic message. Create a child class Dog that overrides the speak() method to print \"Bark\\!\".\n",
        "\n",
        "class Animal:\n",
        "    def speak(self):\n",
        "        \"\"\"A generic speak method.\"\"\"\n",
        "        return \"Generic animal sound\"\n",
        "\n",
        "class Dog(Animal):\n",
        "    def speak(self):\n",
        "        \"\"\"Dog-specific speak method, overriding the parent.\"\"\"\n",
        "        return \"Bark!\"\n",
        "my_dog = Dog()\n",
        "print(f\"Dog says: {my_dog.speak()}\")"
      ]
    },
    {
      "cell_type": "code",
      "source": [
        "\n",
        "# 2. Write a program to create an abstract class Shape with a method area(). Derive classes Circle and Rectangle from it and implement the area() method in both.\n",
        "\n",
        "from abc import ABC, abstractmethod\n",
        "\n",
        "class Shape(ABC):\n",
        "    @abstractmethod\n",
        "    def area(self):\n",
        "        pass\n",
        "\n",
        "class Circle(Shape):\n",
        "    def __init__(self, radius):\n",
        "        self.radius = radius\n",
        "\n",
        "    def area(self):\n",
        "        return 3.14 * self.radius * self.radius\n",
        "\n",
        "class Rectangle(Shape):\n",
        "    def __init__(self, width, height):\n",
        "        self.width = width\n",
        "        self.height = height\n",
        "\n",
        "    def area(self):\n",
        "        return self.width * self.height\n",
        "\n",
        "circle = Circle(5)\n",
        "rectangle = Rectangle(4, 6)\n",
        "print(f\"Area of the circle: {circle.area()}\")\n",
        "print(f\"Area of the rectangle: {rectangle.area()}\")"
      ],
      "metadata": {
        "colab": {
          "base_uri": "https://localhost:8080/"
        },
        "id": "NCUi1105F15I",
        "outputId": "8abffe95-48c7-45b8-b813-5161d430d7af"
      },
      "execution_count": 2,
      "outputs": [
        {
          "output_type": "stream",
          "name": "stdout",
          "text": [
            "Area of the circle: 78.5\n",
            "Area of the rectangle: 24\n"
          ]
        }
      ]
    },
    {
      "cell_type": "code",
      "source": [
        "# 3. Implement a multi-level inheritance hierarchy where a class Vehicle has an attribute type. Derive a class Ca and further derive a class ElectricCar that adds a battery attribute.\n",
        "\n",
        "class Vehicle:\n",
        "    def __init__(self, vehicle_type):\n",
        "        self.vehicle_type = vehicle_type\n",
        "\n",
        "class Car(Vehicle):\n",
        "    def __init__(self, vehicle_type, make):\n",
        "        super().__init__(vehicle_type)\n",
        "        self.make = make\n",
        "\n",
        "class ElectricCar(Car):\n",
        "    def __init__(self, vehicle_type, make, battery_capacity):\n",
        "        super().__init__(vehicle_type, make)\n",
        "        self.battery_capacity = battery_capacity\n",
        "\n",
        "my_electric_car = ElectricCar(\"Electric Car\", \"Tesla\", \"100 kWh\")\n",
        "print(f\"My car is a {my_electric_car.make} which is an {my_electric_car.vehicle_type} with a {my_electric_car.battery_capacity} battery.\")\n"
      ],
      "metadata": {
        "colab": {
          "base_uri": "https://localhost:8080/"
        },
        "id": "DREYKiyfGCBc",
        "outputId": "0906e418-ac5f-41d9-cf08-23dad35180d7"
      },
      "execution_count": 3,
      "outputs": [
        {
          "output_type": "stream",
          "name": "stdout",
          "text": [
            "My car is a Tesla which is an Electric Car with a 100 kWh battery.\n"
          ]
        }
      ]
    },
    {
      "cell_type": "code",
      "source": [
        "# 4 Demonstrate polymorphism by creating a base class Bird with a method fly(). Create two derived classes Sparrow and Penguin that override the fly() method.\n",
        "\n",
        "class Bird:\n",
        "    def fly(self):\n",
        "        return \"I can fly!\"\n",
        "\n",
        "class Sparrow(Bird):\n",
        "    def fly(self):\n",
        "        return \"I am a sparrow and I'm flying high!\"\n",
        "\n",
        "class Penguin(Bird):\n",
        "    def fly(self):\n",
        "        return \"I am a penguin and I cannot fly, but I can swim!\"\n",
        "\n",
        "\n",
        "def bird_action(bird):\n",
        "    print(bird.fly())\n",
        "\n",
        "sparrow = Sparrow()\n",
        "penguin = Penguin()\n",
        "\n",
        "bird_action(sparrow)\n",
        "bird_action(penguin)\n"
      ],
      "metadata": {
        "colab": {
          "base_uri": "https://localhost:8080/"
        },
        "id": "RUmLgTUJGHgk",
        "outputId": "8af069f5-9a76-48b0-fe06-7f042161f6ad"
      },
      "execution_count": 4,
      "outputs": [
        {
          "output_type": "stream",
          "name": "stdout",
          "text": [
            "I am a sparrow and I'm flying high!\n",
            "I am a penguin and I cannot fly, but I can swim!\n"
          ]
        }
      ]
    },
    {
      "cell_type": "code",
      "source": [
        "# 5 Write a program to demonstrate encapsulation by creating a class BankAccount with private attributes balance and methods to deposit, withdraw, and check balance.\n",
        "\n",
        "class BankAccount:\n",
        "    def __init__(self, initial_balance):\n",
        "        self.__balance = initial_balance  # Private attribute\n",
        "\n",
        "    def deposit(self, amount):\n",
        "        if amount > 0:\n",
        "            self.__balance += amount\n",
        "            print(f\"Deposited: {amount}. New balance is: {self.__balance}\")\n",
        "        else:\n",
        "            print(\"Deposit amount must be positive.\")\n",
        "\n",
        "    def withdraw(self, amount):\n",
        "        if amount > 0 and amount <= self.__balance:\n",
        "            self.__balance -= amount\n",
        "            print(f\"Withdrew: {amount}. New balance is: {self.__balance}\")\n",
        "        else:\n",
        "            print(\"Invalid withdrawal amount or insufficient funds.\")\n",
        "\n",
        "    def get_balance(self):\n",
        "        return self.__balance\n",
        "\n",
        "account = BankAccount(1000)\n",
        "account.deposit(500)\n",
        "account.withdraw(200)\n",
        "print(f\"Current balance is: {account.get_balance()}\")"
      ],
      "metadata": {
        "colab": {
          "base_uri": "https://localhost:8080/"
        },
        "id": "X-hWG4HOGWOd",
        "outputId": "b1416982-e81b-43d2-d607-8fdac0f5bca9"
      },
      "execution_count": 5,
      "outputs": [
        {
          "output_type": "stream",
          "name": "stdout",
          "text": [
            "Deposited: 500. New balance is: 1500\n",
            "Withdrew: 200. New balance is: 1300\n",
            "Current balance is: 1300\n"
          ]
        }
      ]
    },
    {
      "cell_type": "code",
      "source": [
        "# 6 Demonstrate runtime polymorphism using a method play() in a base class Instrument. Derive classes Guitar and Piano that implement their own version of play().\n",
        "\n",
        "class Instrument:\n",
        "    def play(self):\n",
        "        return \"Playing a generic instrument sound.\"\n",
        "\n",
        "class Guitar(Instrument):\n",
        "    def play(self):\n",
        "        return \"Strumming a guitar.\"\n",
        "\n",
        "class Piano(Instrument):\n",
        "    def play(self):\n",
        "        return \"Playing the piano keys.\"\n",
        "\n",
        "def perform_music(instrument):\n",
        "    print(instrument.play())\n",
        "\n",
        "my_guitar = Guitar()\n",
        "my_piano = Piano()\n",
        "\n",
        "perform_music(my_guitar)\n",
        "perform_music(my_piano)"
      ],
      "metadata": {
        "colab": {
          "base_uri": "https://localhost:8080/"
        },
        "id": "VvKuXHugGef0",
        "outputId": "7c21ca54-ca25-4745-b1c9-e1fd8ebbc77e"
      },
      "execution_count": 6,
      "outputs": [
        {
          "output_type": "stream",
          "name": "stdout",
          "text": [
            "Strumming a guitar.\n",
            "Playing the piano keys.\n"
          ]
        }
      ]
    },
    {
      "cell_type": "code",
      "source": [
        "# 7 Create a class MathOperations with a class method add_numbers() to add two numbers and a static method subtract_numbers() to subtract two numbers.\n",
        "\n",
        "class MathOperations:\n",
        "    @classmethod\n",
        "    def add_numbers(cls, a, b):\n",
        "        return a + b\n",
        "\n",
        "    @staticmethod\n",
        "    def subtract_numbers(a, b):\n",
        "        return a - b\n",
        "\n",
        "sum_result = MathOperations.add_numbers(5, 3)\n",
        "diff_result = MathOperations.subtract_numbers(10, 4)\n",
        "\n",
        "print(f\"Sum: {sum_result}\")\n",
        "print(f\"Difference: {diff_result}\")"
      ],
      "metadata": {
        "colab": {
          "base_uri": "https://localhost:8080/"
        },
        "id": "PiTDXkxpGkp7",
        "outputId": "74a3f910-0e6d-4cbd-ceee-e41b5b21637d"
      },
      "execution_count": 7,
      "outputs": [
        {
          "output_type": "stream",
          "name": "stdout",
          "text": [
            "Sum: 8\n",
            "Difference: 6\n"
          ]
        }
      ]
    },
    {
      "cell_type": "code",
      "source": [
        "# 8 Implement a class Person with a class method to count the total number of persons created.\n",
        "\n",
        "class Person:\n",
        "    number_of_persons = 0\n",
        "\n",
        "    def __init__(self, name):\n",
        "        self.name = name\n",
        "        Person.number_of_persons += 1\n",
        "\n",
        "    @classmethod\n",
        "    def get_person_count(cls):\n",
        "        return cls.number_of_persons\n",
        "\n",
        "person1 = Person(\"Alice\")\n",
        "person2 = Person(\"Bob\")\n",
        "\n",
        "print(f\"Total number of persons created: {Person.get_person_count()}\")"
      ],
      "metadata": {
        "colab": {
          "base_uri": "https://localhost:8080/"
        },
        "id": "qqlQYcZVGra2",
        "outputId": "f747ffaf-0c85-44fe-c239-372c91c6cb96"
      },
      "execution_count": 8,
      "outputs": [
        {
          "output_type": "stream",
          "name": "stdout",
          "text": [
            "Total number of persons created: 2\n"
          ]
        }
      ]
    },
    {
      "cell_type": "code",
      "source": [
        "# 9 Write a class Fraction with attributes numerator and denominator. Override the __str__ method to display the fraction as \"numerator/denominator\".\n",
        "\n",
        "class Fraction:\n",
        "    def __init__(self, numerator, denominator):\n",
        "        self.numerator = numerator\n",
        "        self.denominator = denominator\n",
        "\n",
        "    def __str__(self):\n",
        "        return f\"{self.numerator}/{self.denominator}\"\n",
        "\n",
        "my_fraction = Fraction(3, 4)\n",
        "print(f\"The fraction is: {my_fraction}\")"
      ],
      "metadata": {
        "colab": {
          "base_uri": "https://localhost:8080/"
        },
        "id": "DQi9IeFlHO82",
        "outputId": "ccc73ce8-bf5c-45e0-dce0-1c3d960b02e3"
      },
      "execution_count": 9,
      "outputs": [
        {
          "output_type": "stream",
          "name": "stdout",
          "text": [
            "The fraction is: 3/4\n"
          ]
        }
      ]
    },
    {
      "cell_type": "code",
      "source": [
        "# 10 Demonstrate operator overloading by creating a class Vector and overloading the __add__ method to add two vectors.\n",
        "\n",
        "class Vector:\n",
        "    def __init__(self, x, y):\n",
        "        self.x = x\n",
        "        self.y = y\n",
        "\n",
        "    def __add__(self, other):\n",
        "        return Vector(self.x + other.x, self.y + other.y)\n",
        "\n",
        "    def __str__(self):\n",
        "        return f\"({self.x}, {self.y})\"\n",
        "\n",
        "vector1 = Vector(2, 3)\n",
        "vector2 = Vector(5, 7)\n",
        "result_vector = vector1 + vector2\n",
        "print(f\"Result of vector addition: {result_vector}\")"
      ],
      "metadata": {
        "colab": {
          "base_uri": "https://localhost:8080/"
        },
        "id": "oWKa0kMiHXgV",
        "outputId": "06713ddc-79e3-4190-b326-ea15af7d93ab"
      },
      "execution_count": 10,
      "outputs": [
        {
          "output_type": "stream",
          "name": "stdout",
          "text": [
            "Result of vector addition: (7, 10)\n"
          ]
        }
      ]
    },
    {
      "cell_type": "code",
      "source": [
        "# 11 Create a class Person with attributes name and age. Add a method greet() that prints \"Hello, my name is {name} and I am {age} years old\".\n",
        "\n",
        "class Person:\n",
        "    def __init__(self, name, age):\n",
        "        self.name = name\n",
        "        self.age = age\n",
        "\n",
        "    def greet(self):\n",
        "        print(f\"Hello, my name is {self.name} and I am {self.age} years old.\")\n",
        "\n",
        "person = Person(\"Charlie\", 30)\n",
        "person.greet()\n"
      ],
      "metadata": {
        "colab": {
          "base_uri": "https://localhost:8080/"
        },
        "id": "smkxTfKBHe5m",
        "outputId": "d5f6f27e-efa1-4341-e557-ff55db0bb6ae"
      },
      "execution_count": 11,
      "outputs": [
        {
          "output_type": "stream",
          "name": "stdout",
          "text": [
            "Hello, my name is Charlie and I am 30 years old.\n"
          ]
        }
      ]
    },
    {
      "cell_type": "code",
      "source": [
        "# 12 Implement a class Student with attributes name and grades. Create a method average_grade() to compute the average of the grades.\n",
        "\n",
        "class Student:\n",
        "    def __init__(self, name, grades):\n",
        "        self.name = name\n",
        "        self.grades = grades\n",
        "\n",
        "    def average_grade(self):\n",
        "        if not self.grades:\n",
        "            return 0\n",
        "        return sum(self.grades) / len(self.grades)\n",
        "\n",
        "student1 = Student(\"Dave\", [85, 90, 78, 92])\n",
        "print(f\"{student1.name}'s average grade is: {student1.average_grade()}\")"
      ],
      "metadata": {
        "colab": {
          "base_uri": "https://localhost:8080/"
        },
        "id": "8-kvBQBQHoo6",
        "outputId": "664d0797-4297-4db8-dafc-43c7f668f656"
      },
      "execution_count": 12,
      "outputs": [
        {
          "output_type": "stream",
          "name": "stdout",
          "text": [
            "Dave's average grade is: 86.25\n"
          ]
        }
      ]
    },
    {
      "cell_type": "code",
      "source": [
        "# 13 Create a class Rectangle with methods set_dimensions() to set the dimensions and area() to calculate the area.\n",
        "\n",
        "class Rectangle:\n",
        "    def __init__(self):\n",
        "        self.width = 0\n",
        "        self.height = 0\n",
        "\n",
        "    def set_dimensions(self, width, height):\n",
        "        self.width = width\n",
        "        self.height = height\n",
        "\n",
        "    def area(self):\n",
        "        return self.width * self.height\n",
        "\n",
        "rect = Rectangle()\n",
        "rect.set_dimensions(10, 20)\n",
        "print(f\"The area of the rectangle is: {rect.area()}\")"
      ],
      "metadata": {
        "colab": {
          "base_uri": "https://localhost:8080/"
        },
        "id": "c5vxSBRYHtwC",
        "outputId": "26425c23-adaa-4bbd-b96f-b28c6f59fa87"
      },
      "execution_count": 13,
      "outputs": [
        {
          "output_type": "stream",
          "name": "stdout",
          "text": [
            "The area of the rectangle is: 200\n"
          ]
        }
      ]
    },
    {
      "cell_type": "code",
      "source": [
        "# 14 Create a class Employee with a method calculate_salary() that computes the salary based on hours worked and hourly rate. Create a derived class Manager that adds a bonus to the salary.\n",
        "\n",
        "class Employee:\n",
        "    def __init__(self, hours_worked, hourly_rate):\n",
        "        self.hours_worked = hours_worked\n",
        "        self.hourly_rate = hourly_rate\n",
        "\n",
        "    def calculate_salary(self):\n",
        "        return self.hours_worked * self.hourly_rate\n",
        "\n",
        "class Manager(Employee):\n",
        "    def __init__(self, hours_worked, hourly_rate, bonus):\n",
        "        super().__init__(hours_worked, hourly_rate)\n",
        "        self.bonus = bonus\n",
        "\n",
        "    def calculate_salary(self):\n",
        "        base_salary = super().calculate_salary()\n",
        "        return base_salary + self.bonus\n",
        "\n",
        "emp = Employee(40, 25)\n",
        "manager = Manager(40, 25, 500)\n",
        "\n",
        "print(f\"Employee's salary: ${emp.calculate_salary()}\")\n",
        "print(f\"Manager's salary: ${manager.calculate_salary()}\")\n"
      ],
      "metadata": {
        "colab": {
          "base_uri": "https://localhost:8080/"
        },
        "id": "0J3yS4rwHz4A",
        "outputId": "9b0de1f8-da04-453c-ae35-a153082da1b7"
      },
      "execution_count": 14,
      "outputs": [
        {
          "output_type": "stream",
          "name": "stdout",
          "text": [
            "Employee's salary: $1000\n",
            "Manager's salary: $1500\n"
          ]
        }
      ]
    },
    {
      "cell_type": "code",
      "source": [
        "\n",
        "# 15 Create a class Product with attributes name, price, and quantity. Implement a method total_price() that calculates the total price of the product.\n",
        "\n",
        "class Product:\n",
        "    def __init__(self, name, price, quantity):\n",
        "        self.name = name\n",
        "        self.price = price\n",
        "        self.quantity = quantity\n",
        "\n",
        "    def total_price(self):\n",
        "        return self.price * self.quantity\n",
        "\n",
        "product = Product(\"Laptop\", 1200, 2)\n",
        "print(f\"Total price for {product.quantity} {product.name}s: ${product.total_price()}\")\n"
      ],
      "metadata": {
        "colab": {
          "base_uri": "https://localhost:8080/"
        },
        "id": "uwUL4RVFH5mh",
        "outputId": "f7f2a10c-8708-40fc-b682-ad82de65cfe6"
      },
      "execution_count": 15,
      "outputs": [
        {
          "output_type": "stream",
          "name": "stdout",
          "text": [
            "Total price for 2 Laptops: $2400\n"
          ]
        }
      ]
    },
    {
      "cell_type": "code",
      "source": [
        "# 16 Create a class Animal with an abstract method sound(). Create two derived classes Cow and Sheep that implement the sound() method.\n",
        "\n",
        "from abc import ABC, abstractmethod\n",
        "\n",
        "class Animal(ABC):\n",
        "    @abstractmethod\n",
        "    def sound(self):\n",
        "        pass\n",
        "\n",
        "class Cow(Animal):\n",
        "    def sound(self):\n",
        "        return \"Moo!\"\n",
        "\n",
        "class Sheep(Animal):\n",
        "    def sound(self):\n",
        "        return \"Baa!\"\n",
        "\n",
        "cow = Cow()\n",
        "sheep = Sheep()\n",
        "\n",
        "print(f\"The cow says: {cow.sound()}\")\n",
        "print(f\"The sheep says: {sheep.sound()}\")"
      ],
      "metadata": {
        "colab": {
          "base_uri": "https://localhost:8080/"
        },
        "id": "9xrinU2HICBE",
        "outputId": "057d7a80-871a-4b52-faef-bd34284c5cc1"
      },
      "execution_count": 16,
      "outputs": [
        {
          "output_type": "stream",
          "name": "stdout",
          "text": [
            "The cow says: Moo!\n",
            "The sheep says: Baa!\n"
          ]
        }
      ]
    },
    {
      "cell_type": "code",
      "source": [
        "# 17 Create a class `Book` with attributes title, author, and year_published. Add a method get_book_info() that returns a formatted string with the book's details.\n",
        "\n",
        "class Book:\n",
        "    def __init__(self, title, author, year_published):\n",
        "        self.title = title\n",
        "        self.author = author\n",
        "        self.year_published = year_published\n",
        "\n",
        "    def get_book_info(self):\n",
        "        return f\"Title: {self.title}, Author: {self.author}, Year: {self.year_published}\"\n",
        "\n",
        "book = Book(\"The Hitchhiker's Guide to the Galaxy\", \"Douglas Adams\", 1979)\n",
        "print(book.get_book_info())"
      ],
      "metadata": {
        "colab": {
          "base_uri": "https://localhost:8080/"
        },
        "id": "bmphTkhxIGi8",
        "outputId": "c036eacb-52bb-49e8-fe59-d0377b945087"
      },
      "execution_count": 17,
      "outputs": [
        {
          "output_type": "stream",
          "name": "stdout",
          "text": [
            "Title: The Hitchhiker's Guide to the Galaxy, Author: Douglas Adams, Year: 1979\n"
          ]
        }
      ]
    },
    {
      "cell_type": "code",
      "source": [
        "# 18 Create a class House with attributes address and price. Create a derived class Mansion that adds an attribute number_of_rooms.\n",
        "\n",
        "class House:\n",
        "    def __init__(self, address, price):\n",
        "        self.address = address\n",
        "        self.price = price\n",
        "\n",
        "class Mansion(House):\n",
        "    def __init__(self, address, price, number_of_rooms):\n",
        "        super().__init__(address, price)\n",
        "        self.number_of_rooms = number_of_rooms\n",
        "\n",
        "mansion = Mansion(\"123 Beverly Hills Drive\", 15000000, 50)\n",
        "print(f\"The mansion at {mansion.address} costs ${mansion.price} and has {mansion.number_of_rooms} rooms.\")"
      ],
      "metadata": {
        "colab": {
          "base_uri": "https://localhost:8080/"
        },
        "id": "LGdalBHjIMjI",
        "outputId": "8e0c0be4-1ea6-4e66-b26d-73fb321d992c"
      },
      "execution_count": 18,
      "outputs": [
        {
          "output_type": "stream",
          "name": "stdout",
          "text": [
            "The mansion at 123 Beverly Hills Drive costs $15000000 and has 50 rooms.\n"
          ]
        }
      ]
    }
  ]
}